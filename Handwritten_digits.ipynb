{
  "nbformat": 4,
  "nbformat_minor": 0,
  "metadata": {
    "colab": {
      "provenance": [],
      "authorship_tag": "ABX9TyMpuajT4F5zxRvcf+MiV4Pj",
      "include_colab_link": true
    },
    "kernelspec": {
      "name": "python3",
      "display_name": "Python 3"
    },
    "language_info": {
      "name": "python"
    }
  },
  "cells": [
    {
      "cell_type": "markdown",
      "metadata": {
        "id": "view-in-github",
        "colab_type": "text"
      },
      "source": [
        "<a href=\"https://colab.research.google.com/github/Khhushhiiii/GENERATIVE-AI/blob/main/Handwritten_digits.ipynb\" target=\"_parent\"><img src=\"https://colab.research.google.com/assets/colab-badge.svg\" alt=\"Open In Colab\"/></a>"
      ]
    },
    {
      "cell_type": "markdown",
      "source": [
        "####This application generates images of handwritten digits (0-9) using a trained deep learning model."
      ],
      "metadata": {
        "id": "IJ0Z8XAGIHKz"
      }
    },
    {
      "cell_type": "markdown",
      "source": [
        "Deep Learning model"
      ],
      "metadata": {
        "id": "Ilt39W5fINQ2"
      }
    },
    {
      "cell_type": "code",
      "source": [
        "import numpy as np\n",
        "import tensorflow as tf\n",
        "from tensorflow import keras\n",
        "\n",
        "# Load and preprocess the MNIST dataset\n",
        "(x_train, _), (_, _) = keras.datasets.mnist.load_data()\n",
        "x_train = x_train.reshape(-1, 28, 28, 1).astype(\"float32\") / 255.0\n",
        "\n",
        "# Define and compile the generator model\n",
        "latent_dim = 100\n",
        "\n",
        "generator = keras.Sequential([\n",
        "    keras.layers.Dense(7 * 7 * 128, input_dim=latent_dim),\n",
        "    keras.layers.Reshape((7, 7, 128)),\n",
        "    keras.layers.Conv2DTranspose(64, (3, 3), strides=(2, 2), padding=\"same\"),\n",
        "    keras.layers.BatchNormalization(),\n",
        "    keras.layers.LeakyReLU(alpha=0.01),\n",
        "    keras.layers.Conv2DTranspose(1, (3, 3), strides=(2, 2), padding=\"same\", activation=\"sigmoid\")\n",
        "])\n",
        "\n",
        "# Compile the generator model\n",
        "generator.compile(loss=\"binary_crossentropy\", optimizer=\"adam\")\n",
        "\n",
        "# Train the generator model\n",
        "batch_size = 128\n",
        "epochs = 30\n",
        "\n",
        "generator.fit(\n",
        "    np.random.normal(size=(x_train.shape[0], latent_dim)),\n",
        "    x_train,\n",
        "    batch_size=batch_size,\n",
        "    epochs=epochs\n",
        ")\n",
        "\n",
        "# Save the generator model\n",
        "generator.save(\"generator_model.h5\")\n"
      ],
      "metadata": {
        "colab": {
          "base_uri": "https://localhost:8080/"
        },
        "id": "FGLyIGkfAeSQ",
        "outputId": "2b04830b-a754-446c-e8ec-39ca7aadc185"
      },
      "execution_count": 3,
      "outputs": [
        {
          "output_type": "stream",
          "name": "stdout",
          "text": [
            "Epoch 1/30\n",
            "469/469 [==============================] - 36s 74ms/step - loss: 0.2890\n",
            "Epoch 2/30\n",
            "469/469 [==============================] - 32s 69ms/step - loss: 0.2641\n",
            "Epoch 3/30\n",
            "469/469 [==============================] - 31s 67ms/step - loss: 0.2627\n",
            "Epoch 4/30\n",
            "469/469 [==============================] - 32s 68ms/step - loss: 0.2618\n",
            "Epoch 5/30\n",
            "469/469 [==============================] - 32s 68ms/step - loss: 0.2611\n",
            "Epoch 6/30\n",
            "469/469 [==============================] - 31s 67ms/step - loss: 0.2605\n",
            "Epoch 7/30\n",
            "469/469 [==============================] - 32s 68ms/step - loss: 0.2599\n",
            "Epoch 8/30\n",
            "469/469 [==============================] - 33s 70ms/step - loss: 0.2592\n",
            "Epoch 9/30\n",
            "469/469 [==============================] - 31s 67ms/step - loss: 0.2586\n",
            "Epoch 10/30\n",
            "469/469 [==============================] - 32s 68ms/step - loss: 0.2580\n",
            "Epoch 11/30\n",
            "469/469 [==============================] - 32s 68ms/step - loss: 0.2573\n",
            "Epoch 12/30\n",
            "469/469 [==============================] - 31s 67ms/step - loss: 0.2567\n",
            "Epoch 13/30\n",
            "469/469 [==============================] - 32s 68ms/step - loss: 0.2560\n",
            "Epoch 14/30\n",
            "469/469 [==============================] - 32s 68ms/step - loss: 0.2553\n",
            "Epoch 15/30\n",
            "469/469 [==============================] - 32s 67ms/step - loss: 0.2546\n",
            "Epoch 16/30\n",
            "469/469 [==============================] - 32s 68ms/step - loss: 0.2539\n",
            "Epoch 17/30\n",
            "469/469 [==============================] - 32s 69ms/step - loss: 0.2532\n",
            "Epoch 18/30\n",
            "469/469 [==============================] - 32s 68ms/step - loss: 0.2525\n",
            "Epoch 19/30\n",
            "469/469 [==============================] - 32s 68ms/step - loss: 0.2518\n",
            "Epoch 20/30\n",
            "469/469 [==============================] - 31s 67ms/step - loss: 0.2511\n",
            "Epoch 21/30\n",
            "469/469 [==============================] - 32s 68ms/step - loss: 0.2505\n",
            "Epoch 22/30\n",
            "469/469 [==============================] - 32s 68ms/step - loss: 0.2498\n",
            "Epoch 23/30\n",
            "469/469 [==============================] - 31s 67ms/step - loss: 0.2492\n",
            "Epoch 24/30\n",
            "469/469 [==============================] - 32s 68ms/step - loss: 0.2486\n",
            "Epoch 25/30\n",
            "469/469 [==============================] - 33s 70ms/step - loss: 0.2479\n",
            "Epoch 26/30\n",
            "469/469 [==============================] - 32s 68ms/step - loss: 0.2474\n",
            "Epoch 27/30\n",
            "469/469 [==============================] - 32s 68ms/step - loss: 0.2468\n",
            "Epoch 28/30\n",
            "469/469 [==============================] - 32s 68ms/step - loss: 0.2463\n",
            "Epoch 29/30\n",
            "469/469 [==============================] - 32s 68ms/step - loss: 0.2458\n",
            "Epoch 30/30\n",
            "469/469 [==============================] - 32s 68ms/step - loss: 0.2453\n"
          ]
        }
      ]
    },
    {
      "cell_type": "code",
      "execution_count": 4,
      "metadata": {
        "colab": {
          "base_uri": "https://localhost:8080/",
          "height": 146
        },
        "id": "cgaNS_c6_v8P",
        "outputId": "79dc77ba-6a1f-4092-a385-778441f6a9db"
      },
      "outputs": [
        {
          "output_type": "stream",
          "name": "stdout",
          "text": [
            "1/1 [==============================] - 0s 91ms/step\n"
          ]
        },
        {
          "output_type": "display_data",
          "data": {
            "text/plain": [
              "<Figure size 2000x200 with 10 Axes>"
            ],
            "image/png": "[encoded data removed]"
          },
          "metadata": {}
        }
      ],
      "source": [
        "import numpy as np\n",
        "import matplotlib.pyplot as plt\n",
        "from tensorflow import keras\n",
        "\n",
        "# Load the trained generator model\n",
        "generator = keras.models.load_model('/content/generator_model.h5')\n",
        "\n",
        "# Generate random noise\n",
        "num_images = 10\n",
        "latent_dim = 100\n",
        "random_latent_vectors = np.random.normal(size=(num_images, latent_dim))\n",
        "\n",
        "# Generate images\n",
        "generated_images = generator.predict(random_latent_vectors)\n",
        "\n",
        "# Display the generated images\n",
        "fig, axs = plt.subplots(1, num_images, figsize=(20, 2))\n",
        "\n",
        "for i in range(num_images):\n",
        "    axs[i].imshow(generated_images[i, :, :, 0], cmap='gray')\n",
        "    axs[i].axis('off')\n",
        "\n",
        "plt.show()\n"
      ]
    },
    {
      "cell_type": "markdown",
      "source": [
        "Clearing Blur images"
      ],
      "metadata": {
        "id": "q7VkYke0Jlgn"
      }
    },
    {
      "cell_type": "code",
      "source": [
        "import numpy as np\n",
        "import matplotlib.pyplot as plt\n",
        "from tensorflow import keras\n",
        "\n",
        "# Load the trained generator model\n",
        "generator = keras.models.load_model('/content/generator_model.h5')\n",
        "\n",
        "# Generate random noise\n",
        "num_images = 10\n",
        "latent_dim = 100\n",
        "random_latent_vectors = np.random.normal(size=(num_images, latent_dim))\n",
        "\n",
        "# Generate images\n",
        "generated_images = generator.predict(random_latent_vectors)\n",
        "\n",
        "# Denormalize the generated images\n",
        "generated_images = (generated_images * 0.5) + 0.5\n",
        "\n",
        "# Display the generated images\n",
        "fig, axs = plt.subplots(1, num_images, figsize=(20, 2))\n",
        "\n",
        "for i in range(num_images):\n",
        "    axs[i].imshow(generated_images[i, :, :, 0], cmap='gray')\n",
        "    axs[i].axis('off')\n",
        "\n",
        "plt.show()\n"
      ],
      "metadata": {
        "colab": {
          "base_uri": "https://localhost:8080/",
          "height": 146
        },
        "id": "9OGnIM2wI_PC",
        "outputId": "3441bbc3-f096-415f-e18e-5c13f13aa588"
      },
      "execution_count": 5,
      "outputs": [
        {
          "output_type": "stream",
          "name": "stdout",
          "text": [
            "1/1 [==============================] - 0s 68ms/step\n"
          ]
        },
        {
          "output_type": "display_data",
          "data": {
            "text/plain": [
              "<Figure size 2000x200 with 10 Axes>"
            ],
            "image/png": "[encoded data removed]"
          },
          "metadata": {}
        }
      ]
    }
  ]
}